{
 "cells": [
  {
   "attachments": {},
   "cell_type": "markdown",
   "metadata": {},
   "source": [
    "## Installation\n",
    "\n",
    "You first need to install milvus with client(pymilvus).\n",
    "Note: as pymilvus requires specific version of grpc, if your current grpc version is not compatible with pymilvus, you may need restart the kernel after installation.\n"
   ]
  },
  {
   "cell_type": "code",
   "execution_count": null,
   "metadata": {},
   "outputs": [],
   "source": [
    "# install milvus with [client] extras by pip\n",
    "!python3 -m pip install \"milvus[client]\""
   ]
  },
  {
   "attachments": {},
   "cell_type": "markdown",
   "metadata": {},
   "source": [
    "## Examples for startup\n",
    "\n",
    "Below is the example for startup milvus server. And use the pymilvus to get the server version."
   ]
  },
  {
   "cell_type": "code",
   "execution_count": null,
   "metadata": {},
   "outputs": [],
   "source": [
    "from milvus import default_server\n",
    "from pymilvus import connections, utility\n",
    "\n",
    "with default_server:\n",
    "    connections.connect(host='localhost', port=default_server.listen_port)\n",
    "    print(utility.get_server_version())"
   ]
  }
 ],
 "metadata": {
  "language_info": {
   "name": "python"
  },
  "orig_nbformat": 4
 },
 "nbformat": 4,
 "nbformat_minor": 2
}
